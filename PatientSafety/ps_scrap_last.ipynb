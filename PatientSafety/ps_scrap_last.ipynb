{
 "cells": [
  {
   "cell_type": "code",
   "execution_count": 1,
   "metadata": {},
   "outputs": [],
   "source": [
    "import snscrape.modules.twitter as sntwitter\n",
    "import pandas as pd\n",
    "pd.set_option('display.max_colwidth', 500)"
   ]
  },
  {
   "cell_type": "code",
   "execution_count": 2,
   "metadata": {},
   "outputs": [],
   "source": [
    "def tweet_scraper(query, n_tweet):\n",
    "\n",
    "    attributes_container = []\n",
    "    max_tweet = n_tweet\n",
    "\n",
    "    for i,tweet in enumerate(sntwitter.TwitterSearchScraper(query).get_items()):\n",
    "\n",
    "        if i>max_tweet:\n",
    "            break\n",
    "            \n",
    "        attributes_container.append([tweet.user.username,\n",
    "                                    tweet.user.followersCount,\n",
    "                                    tweet.user.friendsCount,\n",
    "                                    tweet.retweetCount,\n",
    "                                    tweet.lang,\n",
    "                                    tweet.date,\n",
    "                                    tweet.likeCount,\n",
    "                                    tweet.id,\n",
    "                                    tweet.content,\n",
    "                                    tweet.hashtags,\n",
    "                                    tweet.coordinates,\n",
    "                                    tweet.place])\n",
    "        \n",
    "    return pd.DataFrame(attributes_container, columns=[\"User\",\n",
    "                                                    \"Follows_Count\",\n",
    "                                                    \"Friends_Count\",\n",
    "                                                    \"Retweet_Count\",\n",
    "                                                    \"Language\",\n",
    "                                                    \"Date_Tweet\",\n",
    "                                                    \"Number_of_Likes\",\n",
    "                                                    \"Tweet_Id\",\n",
    "                                                    \"Tweet\",\n",
    "                                                    \"Hashtags\",\n",
    "                                                    \"Coordinates\",\n",
    "                                                    \"Place\"])"
   ]
  },
  {
   "cell_type": "code",
   "execution_count": 3,
   "metadata": {},
   "outputs": [
    {
     "name": "stderr",
     "output_type": "stream",
     "text": [
      "/tmp/ipykernel_18402/3358869285.py:19: FutureWarning: content is deprecated, use rawContent instead\n",
      "  tweet.content,\n"
     ]
    }
   ],
   "source": [
    "ps = tweet_scraper('(patient safety) since:2010-01-01 until:2022-12-31', 250000)\n",
    "ps.to_csv('patient_safety.csv', index=False)"
   ]
  },
  {
   "cell_type": "code",
   "execution_count": 4,
   "metadata": {},
   "outputs": [
    {
     "data": {
      "text/html": [
       "<div>\n",
       "<style scoped>\n",
       "    .dataframe tbody tr th:only-of-type {\n",
       "        vertical-align: middle;\n",
       "    }\n",
       "\n",
       "    .dataframe tbody tr th {\n",
       "        vertical-align: top;\n",
       "    }\n",
       "\n",
       "    .dataframe thead th {\n",
       "        text-align: right;\n",
       "    }\n",
       "</style>\n",
       "<table border=\"1\" class=\"dataframe\">\n",
       "  <thead>\n",
       "    <tr style=\"text-align: right;\">\n",
       "      <th></th>\n",
       "      <th>User</th>\n",
       "      <th>Follows_Count</th>\n",
       "      <th>Friends_Count</th>\n",
       "      <th>Retweet_Count</th>\n",
       "      <th>Language</th>\n",
       "      <th>Date_Tweet</th>\n",
       "      <th>Number_of_Likes</th>\n",
       "      <th>Tweet_Id</th>\n",
       "      <th>Tweet</th>\n",
       "      <th>Hashtags</th>\n",
       "      <th>Coordinates</th>\n",
       "      <th>Place</th>\n",
       "    </tr>\n",
       "  </thead>\n",
       "  <tbody>\n",
       "    <tr>\n",
       "      <th>0</th>\n",
       "      <td>ZKusynova</td>\n",
       "      <td>557</td>\n",
       "      <td>193</td>\n",
       "      <td>0</td>\n",
       "      <td>en</td>\n",
       "      <td>2022-12-05 10:01:31+00:00</td>\n",
       "      <td>0</td>\n",
       "      <td>1,59970551827612E+018</td>\n",
       "      <td>It is encouraging to see that the @WHO \"Global Patient Safety Action Plan 2021–2030: Pandemic and beyond\" is translating into #patientsafety health sector policies and programmes. At this weeks' WHO consultation, we'll discuss reporting and sharing of results. @FIP_org</td>\n",
       "      <td>['patientsafety']</td>\n",
       "      <td>NaN</td>\n",
       "      <td>NaN</td>\n",
       "    </tr>\n",
       "    <tr>\n",
       "      <th>1</th>\n",
       "      <td>EllieGray6272</td>\n",
       "      <td>483</td>\n",
       "      <td>432</td>\n",
       "      <td>0</td>\n",
       "      <td>en</td>\n",
       "      <td>2022-12-05 10:00:44+00:00</td>\n",
       "      <td>0</td>\n",
       "      <td>1,59970532305262E+018</td>\n",
       "      <td>@DocMCohen @DrAseemMalhotra Says the unethical MD who puts #BigPharma profits above patient safety.</td>\n",
       "      <td>['BigPharma']</td>\n",
       "      <td>NaN</td>\n",
       "      <td>NaN</td>\n",
       "    </tr>\n",
       "    <tr>\n",
       "      <th>2</th>\n",
       "      <td>ParamountB</td>\n",
       "      <td>329</td>\n",
       "      <td>816</td>\n",
       "      <td>0</td>\n",
       "      <td>en</td>\n",
       "      <td>2022-12-05 10:00:33+00:00</td>\n",
       "      <td>0</td>\n",
       "      <td>1,59970527413848E+018</td>\n",
       "      <td>👉Shop now &amp;amp; get 10% Discount: \\n\"FIRST AID &amp;amp; PATIENT SAFETY 3ED\" by Atiq Ur Rehman:\\n\\n#firstaid #cpr #firstaidtraining #emergency #medical #medicine #health #rescue #nurse #Paramountbooks #paramountmedicalbooks #MedicalBooks #MedicalStudent #Discount https://t.co/P1TTSYeckf</td>\n",
       "      <td>['firstaid', 'cpr', 'firstaidtraining', 'emergency', 'medical', 'medicine', 'health', 'rescue', 'nurse', 'Paramountbooks', 'paramountmedicalbooks', 'MedicalBooks', 'MedicalStudent', 'Discount']</td>\n",
       "      <td>NaN</td>\n",
       "      <td>NaN</td>\n",
       "    </tr>\n",
       "    <tr>\n",
       "      <th>3</th>\n",
       "      <td>Ksehmi5</td>\n",
       "      <td>281</td>\n",
       "      <td>51</td>\n",
       "      <td>0</td>\n",
       "      <td>en</td>\n",
       "      <td>2022-12-05 09:54:06+00:00</td>\n",
       "      <td>0</td>\n",
       "      <td>1,59970365237706E+018</td>\n",
       "      <td>@Mondher_Letaief ground breaking work been carried on in #patientsafety #GlobalPatientSafetyActionPlan by  @WHOEMRO Member States despite the enormous challenges in the Region. We need to tailor-make the #GPSAP2030 to adjust for  national ecosystems and legacy of conflict https://t.co/msrio0jW0V</td>\n",
       "      <td>['patientsafety', 'GlobalPatientSafetyActionPlan', 'GPSAP2030']</td>\n",
       "      <td>Coordinates(longitude=6.046126, latitude=46.2171765)</td>\n",
       "      <td>Place(fullName='Meyrin, Suisse', name='Meyrin', type='city', country='Switzerland', countryCode='CH')</td>\n",
       "    </tr>\n",
       "    <tr>\n",
       "      <th>4</th>\n",
       "      <td>7Sebe</td>\n",
       "      <td>696</td>\n",
       "      <td>1730</td>\n",
       "      <td>0</td>\n",
       "      <td>en</td>\n",
       "      <td>2022-12-05 09:52:32+00:00</td>\n",
       "      <td>2</td>\n",
       "      <td>1,59970325797867E+018</td>\n",
       "      <td>Reality of today’s NHS approach to #patientsafety when big expensive management consultancy firms tell us how to deliver healthcare: \\nIncentivised unsafe conditions, overworked and underpaid demoralised staff. \\nThis has to change. \\nTime for #fullpayrestoration</td>\n",
       "      <td>['patientsafety', 'fullpayrestoration']</td>\n",
       "      <td>NaN</td>\n",
       "      <td>NaN</td>\n",
       "    </tr>\n",
       "  </tbody>\n",
       "</table>\n",
       "</div>"
      ],
      "text/plain": [
       "            User  Follows_Count  Friends_Count  Retweet_Count Language  \\\n",
       "0      ZKusynova            557            193              0       en   \n",
       "1  EllieGray6272            483            432              0       en   \n",
       "2     ParamountB            329            816              0       en   \n",
       "3        Ksehmi5            281             51              0       en   \n",
       "4          7Sebe            696           1730              0       en   \n",
       "\n",
       "                  Date_Tweet  Number_of_Likes               Tweet_Id  \\\n",
       "0  2022-12-05 10:01:31+00:00                0  1,59970551827612E+018   \n",
       "1  2022-12-05 10:00:44+00:00                0  1,59970532305262E+018   \n",
       "2  2022-12-05 10:00:33+00:00                0  1,59970527413848E+018   \n",
       "3  2022-12-05 09:54:06+00:00                0  1,59970365237706E+018   \n",
       "4  2022-12-05 09:52:32+00:00                2  1,59970325797867E+018   \n",
       "\n",
       "                                                                                                                                                                                                                                                                                                      Tweet  \\\n",
       "0                             It is encouraging to see that the @WHO \"Global Patient Safety Action Plan 2021–2030: Pandemic and beyond\" is translating into #patientsafety health sector policies and programmes. At this weeks' WHO consultation, we'll discuss reporting and sharing of results. @FIP_org   \n",
       "1                                                                                                                                                                                                       @DocMCohen @DrAseemMalhotra Says the unethical MD who puts #BigPharma profits above patient safety.   \n",
       "2               👉Shop now &amp; get 10% Discount: \\n\"FIRST AID &amp; PATIENT SAFETY 3ED\" by Atiq Ur Rehman:\\n\\n#firstaid #cpr #firstaidtraining #emergency #medical #medicine #health #rescue #nurse #Paramountbooks #paramountmedicalbooks #MedicalBooks #MedicalStudent #Discount https://t.co/P1TTSYeckf   \n",
       "3  @Mondher_Letaief ground breaking work been carried on in #patientsafety #GlobalPatientSafetyActionPlan by  @WHOEMRO Member States despite the enormous challenges in the Region. We need to tailor-make the #GPSAP2030 to adjust for  national ecosystems and legacy of conflict https://t.co/msrio0jW0V   \n",
       "4                                   Reality of today’s NHS approach to #patientsafety when big expensive management consultancy firms tell us how to deliver healthcare: \\nIncentivised unsafe conditions, overworked and underpaid demoralised staff. \\nThis has to change. \\nTime for #fullpayrestoration   \n",
       "\n",
       "                                                                                                                                                                                            Hashtags  \\\n",
       "0                                                                                                                                                                                  ['patientsafety']   \n",
       "1                                                                                                                                                                                      ['BigPharma']   \n",
       "2  ['firstaid', 'cpr', 'firstaidtraining', 'emergency', 'medical', 'medicine', 'health', 'rescue', 'nurse', 'Paramountbooks', 'paramountmedicalbooks', 'MedicalBooks', 'MedicalStudent', 'Discount']   \n",
       "3                                                                                                                                    ['patientsafety', 'GlobalPatientSafetyActionPlan', 'GPSAP2030']   \n",
       "4                                                                                                                                                            ['patientsafety', 'fullpayrestoration']   \n",
       "\n",
       "                                            Coordinates  \\\n",
       "0                                                   NaN   \n",
       "1                                                   NaN   \n",
       "2                                                   NaN   \n",
       "3  Coordinates(longitude=6.046126, latitude=46.2171765)   \n",
       "4                                                   NaN   \n",
       "\n",
       "                                                                                                   Place  \n",
       "0                                                                                                    NaN  \n",
       "1                                                                                                    NaN  \n",
       "2                                                                                                    NaN  \n",
       "3  Place(fullName='Meyrin, Suisse', name='Meyrin', type='city', country='Switzerland', countryCode='CH')  \n",
       "4                                                                                                    NaN  "
      ]
     },
     "execution_count": 4,
     "metadata": {},
     "output_type": "execute_result"
    }
   ],
   "source": [
    "df = pd.read_csv('patient_safety2.csv', encoding='utf-8')\n",
    "df.head()"
   ]
  },
  {
   "cell_type": "code",
   "execution_count": 5,
   "metadata": {},
   "outputs": [
    {
     "data": {
      "text/plain": [
       "Index(['User', 'Follows_Count', 'Friends_Count', 'Retweet_Count', 'Language',\n",
       "       'Date_Tweet', 'Number_of_Likes', 'Tweet_Id', 'Tweet', 'Hashtags',\n",
       "       'Coordinates', 'Place'],\n",
       "      dtype='object')"
      ]
     },
     "execution_count": 5,
     "metadata": {},
     "output_type": "execute_result"
    }
   ],
   "source": [
    "df.columns"
   ]
  },
  {
   "cell_type": "code",
   "execution_count": 19,
   "metadata": {},
   "outputs": [],
   "source": [
    "data = df[['User', 'Date_Tweet', 'Tweet', 'Language', 'Hashtags','Place', 'Follows_Count', 'Friends_Count', 'Retweet_Count', \n",
    "        'Number_of_Likes']]"
   ]
  },
  {
   "cell_type": "code",
   "execution_count": 20,
   "metadata": {},
   "outputs": [],
   "source": [
    "import pandas as pd\n",
    "# pd.set_option('display.max_columns', 500)\n",
    "# pd.set_option('display.width', 1000)\n",
    "import numpy as np\n",
    "import re\n",
    "import matplotlib.pyplot as plt\n",
    "import seaborn as sns\n",
    "import warnings\n",
    "warnings.filterwarnings('ignore')\n",
    "%matplotlib inline"
   ]
  },
  {
   "cell_type": "code",
   "execution_count": 21,
   "metadata": {},
   "outputs": [
    {
     "data": {
      "text/plain": [
       "3509"
      ]
     },
     "execution_count": 21,
     "metadata": {},
     "output_type": "execute_result"
    }
   ],
   "source": [
    "data.Tweet.duplicated().sum()"
   ]
  },
  {
   "cell_type": "code",
   "execution_count": 22,
   "metadata": {},
   "outputs": [],
   "source": [
    "data = data.drop_duplicates(subset=['Tweet'], keep='first')"
   ]
  },
  {
   "cell_type": "code",
   "execution_count": 23,
   "metadata": {},
   "outputs": [
    {
     "data": {
      "text/plain": [
       "(236955, 10)"
      ]
     },
     "execution_count": 23,
     "metadata": {},
     "output_type": "execute_result"
    }
   ],
   "source": [
    "#tweets lang\n",
    "\n",
    "data_en = data[data['Language'] == 'en']\n",
    "data_en.shape"
   ]
  },
  {
   "cell_type": "code",
   "execution_count": 24,
   "metadata": {},
   "outputs": [
    {
     "data": {
      "text/plain": [
       "User                    0\n",
       "Date_Tweet              0\n",
       "Tweet                   0\n",
       "Language                0\n",
       "Hashtags            93966\n",
       "Place              238786\n",
       "Follows_Count           0\n",
       "Friends_Count           0\n",
       "Retweet_Count           0\n",
       "Number_of_Likes         0\n",
       "dtype: int64"
      ]
     },
     "execution_count": 24,
     "metadata": {},
     "output_type": "execute_result"
    }
   ],
   "source": [
    "data.isna().sum()"
   ]
  },
  {
   "cell_type": "code",
   "execution_count": 25,
   "metadata": {},
   "outputs": [],
   "source": [
    "data.Tweet = data.Tweet.astype(str)"
   ]
  },
  {
   "cell_type": "code",
   "execution_count": 32,
   "metadata": {},
   "outputs": [],
   "source": [
    "df = data.copy()\n",
    "df.columns = df.columns.str.lower()"
   ]
  },
  {
   "cell_type": "code",
   "execution_count": 33,
   "metadata": {},
   "outputs": [
    {
     "name": "stdout",
     "output_type": "stream",
     "text": [
      "246470 tweets from different 73698 unique users\n"
     ]
    }
   ],
   "source": [
    "# kullanıcı sayısı ve tweet sayısı\n",
    "\n",
    "print(f'{df.shape[0]} tweets from different {df.user.nunique()} unique users')"
   ]
  },
  {
   "cell_type": "code",
   "execution_count": null,
   "metadata": {},
   "outputs": [],
   "source": [
    "df.date_tweet = pd.to_datetime(df.date_tweet)\n",
    "df['year']= df.date_tweet.dt.year\n",
    "df['month'] = df.date_tweet.dt.month_name()    \n",
    "df['day'] = df.date_tweet.dt.day_name()\n",
    "df.head()"
   ]
  },
  {
   "cell_type": "code",
   "execution_count": 35,
   "metadata": {},
   "outputs": [
    {
     "data": {
      "text/plain": [
       "2020    89350\n",
       "2022    80567\n",
       "2021    75155\n",
       "2019     1398\n",
       "Name: year, dtype: int64"
      ]
     },
     "execution_count": 35,
     "metadata": {},
     "output_type": "execute_result"
    }
   ],
   "source": [
    "df['year'].value_counts()"
   ]
  },
  {
   "cell_type": "code",
   "execution_count": 36,
   "metadata": {},
   "outputs": [
    {
     "ename": "ValueError",
     "evalue": "'label' must be of length 'x'",
     "output_type": "error",
     "traceback": [
      "\u001b[0;31m---------------------------------------------------------------------------\u001b[0m",
      "\u001b[0;31mValueError\u001b[0m                                Traceback (most recent call last)",
      "Cell \u001b[0;32mIn [36], line 3\u001b[0m\n\u001b[1;32m      1\u001b[0m \u001b[39m# Datada yer alan tweetlerin yıllara göre dağılımı\u001b[39;00m\n\u001b[1;32m      2\u001b[0m plt\u001b[39m.\u001b[39mfigure(figsize\u001b[39m=\u001b[39m(\u001b[39m9\u001b[39m,\u001b[39m9\u001b[39m))\n\u001b[0;32m----> 3\u001b[0m plt\u001b[39m.\u001b[39;49mpie(df\u001b[39m.\u001b[39;49myear\u001b[39m.\u001b[39;49mvalue_counts(), labels\u001b[39m=\u001b[39;49m[\u001b[39m'\u001b[39;49m\u001b[39m2020 Tweets\u001b[39;49m\u001b[39m'\u001b[39;49m, \u001b[39m'\u001b[39;49m\u001b[39m2022 Tweets\u001b[39;49m\u001b[39m'\u001b[39;49m, \u001b[39m'\u001b[39;49m\u001b[39m2021 Tweets\u001b[39;49m\u001b[39m'\u001b[39;49m], autopct\u001b[39m=\u001b[39;49m\u001b[39m'\u001b[39;49m\u001b[39m%1.1f\u001b[39;49;00m\u001b[39m%%\u001b[39;49;00m\u001b[39m'\u001b[39;49m, colors\u001b[39m=\u001b[39;49m[\u001b[39m'\u001b[39;49m\u001b[39m#ff9999\u001b[39;49m\u001b[39m'\u001b[39;49m,\u001b[39m'\u001b[39;49m\u001b[39m#66b3ff\u001b[39;49m\u001b[39m'\u001b[39;49m,\u001b[39m'\u001b[39;49m\u001b[39m#99ff99\u001b[39;49m\u001b[39m'\u001b[39;49m],\\\n\u001b[1;32m      4\u001b[0m  startangle\u001b[39m=\u001b[39;49m\u001b[39m90\u001b[39;49m, textprops\u001b[39m=\u001b[39;49m{\u001b[39m'\u001b[39;49m\u001b[39mfontsize\u001b[39;49m\u001b[39m'\u001b[39;49m: \u001b[39m14\u001b[39;49m}, wedgeprops\u001b[39m=\u001b[39;49m\u001b[39mdict\u001b[39;49m(width\u001b[39m=\u001b[39;49m\u001b[39m0.3\u001b[39;49m), explode\u001b[39m=\u001b[39;49m(\u001b[39m0.05\u001b[39;49m,\u001b[39m0\u001b[39;49m,\u001b[39m0\u001b[39;49m), shadow\u001b[39m=\u001b[39;49m\u001b[39mTrue\u001b[39;49;00m, pctdistance\u001b[39m=\u001b[39;49m\u001b[39m0.85\u001b[39;49m,\\\n\u001b[1;32m      5\u001b[0m     labeldistance\u001b[39m=\u001b[39;49m\u001b[39m1.1\u001b[39;49m, radius\u001b[39m=\u001b[39;49m\u001b[39m1.2\u001b[39;49m, counterclock\u001b[39m=\u001b[39;49m\u001b[39mFalse\u001b[39;49;00m, center\u001b[39m=\u001b[39;49m(\u001b[39m0\u001b[39;49m,\u001b[39m0\u001b[39;49m), frame\u001b[39m=\u001b[39;49m\u001b[39mFalse\u001b[39;49;00m)\n\u001b[1;32m      6\u001b[0m plt\u001b[39m.\u001b[39mlegend(loc\u001b[39m=\u001b[39m\u001b[39m'\u001b[39m\u001b[39mupper right\u001b[39m\u001b[39m'\u001b[39m)\n\u001b[1;32m      7\u001b[0m plt\u001b[39m.\u001b[39mshow()\n",
      "File \u001b[0;32m~/anaconda3/envs/twitter/lib/python3.9/site-packages/matplotlib/pyplot.py:2727\u001b[0m, in \u001b[0;36mpie\u001b[0;34m(x, explode, labels, colors, autopct, pctdistance, shadow, labeldistance, startangle, radius, counterclock, wedgeprops, textprops, center, frame, rotatelabels, normalize, data)\u001b[0m\n\u001b[1;32m   2720\u001b[0m \u001b[39m@_copy_docstring_and_deprecators\u001b[39m(Axes\u001b[39m.\u001b[39mpie)\n\u001b[1;32m   2721\u001b[0m \u001b[39mdef\u001b[39;00m \u001b[39mpie\u001b[39m(\n\u001b[1;32m   2722\u001b[0m         x, explode\u001b[39m=\u001b[39m\u001b[39mNone\u001b[39;00m, labels\u001b[39m=\u001b[39m\u001b[39mNone\u001b[39;00m, colors\u001b[39m=\u001b[39m\u001b[39mNone\u001b[39;00m, autopct\u001b[39m=\u001b[39m\u001b[39mNone\u001b[39;00m,\n\u001b[0;32m   (...)\u001b[0m\n\u001b[1;32m   2725\u001b[0m         textprops\u001b[39m=\u001b[39m\u001b[39mNone\u001b[39;00m, center\u001b[39m=\u001b[39m(\u001b[39m0\u001b[39m, \u001b[39m0\u001b[39m), frame\u001b[39m=\u001b[39m\u001b[39mFalse\u001b[39;00m,\n\u001b[1;32m   2726\u001b[0m         rotatelabels\u001b[39m=\u001b[39m\u001b[39mFalse\u001b[39;00m, \u001b[39m*\u001b[39m, normalize\u001b[39m=\u001b[39m\u001b[39mTrue\u001b[39;00m, data\u001b[39m=\u001b[39m\u001b[39mNone\u001b[39;00m):\n\u001b[0;32m-> 2727\u001b[0m     \u001b[39mreturn\u001b[39;00m gca()\u001b[39m.\u001b[39;49mpie(\n\u001b[1;32m   2728\u001b[0m         x, explode\u001b[39m=\u001b[39;49mexplode, labels\u001b[39m=\u001b[39;49mlabels, colors\u001b[39m=\u001b[39;49mcolors,\n\u001b[1;32m   2729\u001b[0m         autopct\u001b[39m=\u001b[39;49mautopct, pctdistance\u001b[39m=\u001b[39;49mpctdistance, shadow\u001b[39m=\u001b[39;49mshadow,\n\u001b[1;32m   2730\u001b[0m         labeldistance\u001b[39m=\u001b[39;49mlabeldistance, startangle\u001b[39m=\u001b[39;49mstartangle,\n\u001b[1;32m   2731\u001b[0m         radius\u001b[39m=\u001b[39;49mradius, counterclock\u001b[39m=\u001b[39;49mcounterclock,\n\u001b[1;32m   2732\u001b[0m         wedgeprops\u001b[39m=\u001b[39;49mwedgeprops, textprops\u001b[39m=\u001b[39;49mtextprops, center\u001b[39m=\u001b[39;49mcenter,\n\u001b[1;32m   2733\u001b[0m         frame\u001b[39m=\u001b[39;49mframe, rotatelabels\u001b[39m=\u001b[39;49mrotatelabels, normalize\u001b[39m=\u001b[39;49mnormalize,\n\u001b[1;32m   2734\u001b[0m         \u001b[39m*\u001b[39;49m\u001b[39m*\u001b[39;49m({\u001b[39m\"\u001b[39;49m\u001b[39mdata\u001b[39;49m\u001b[39m\"\u001b[39;49m: data} \u001b[39mif\u001b[39;49;00m data \u001b[39mis\u001b[39;49;00m \u001b[39mnot\u001b[39;49;00m \u001b[39mNone\u001b[39;49;00m \u001b[39melse\u001b[39;49;00m {}))\n",
      "File \u001b[0;32m~/anaconda3/envs/twitter/lib/python3.9/site-packages/matplotlib/__init__.py:1423\u001b[0m, in \u001b[0;36m_preprocess_data.<locals>.inner\u001b[0;34m(ax, data, *args, **kwargs)\u001b[0m\n\u001b[1;32m   1420\u001b[0m \u001b[39m@functools\u001b[39m\u001b[39m.\u001b[39mwraps(func)\n\u001b[1;32m   1421\u001b[0m \u001b[39mdef\u001b[39;00m \u001b[39minner\u001b[39m(ax, \u001b[39m*\u001b[39margs, data\u001b[39m=\u001b[39m\u001b[39mNone\u001b[39;00m, \u001b[39m*\u001b[39m\u001b[39m*\u001b[39mkwargs):\n\u001b[1;32m   1422\u001b[0m     \u001b[39mif\u001b[39;00m data \u001b[39mis\u001b[39;00m \u001b[39mNone\u001b[39;00m:\n\u001b[0;32m-> 1423\u001b[0m         \u001b[39mreturn\u001b[39;00m func(ax, \u001b[39m*\u001b[39;49m\u001b[39mmap\u001b[39;49m(sanitize_sequence, args), \u001b[39m*\u001b[39;49m\u001b[39m*\u001b[39;49mkwargs)\n\u001b[1;32m   1425\u001b[0m     bound \u001b[39m=\u001b[39m new_sig\u001b[39m.\u001b[39mbind(ax, \u001b[39m*\u001b[39margs, \u001b[39m*\u001b[39m\u001b[39m*\u001b[39mkwargs)\n\u001b[1;32m   1426\u001b[0m     auto_label \u001b[39m=\u001b[39m (bound\u001b[39m.\u001b[39marguments\u001b[39m.\u001b[39mget(label_namer)\n\u001b[1;32m   1427\u001b[0m                   \u001b[39mor\u001b[39;00m bound\u001b[39m.\u001b[39mkwargs\u001b[39m.\u001b[39mget(label_namer))\n",
      "File \u001b[0;32m~/anaconda3/envs/twitter/lib/python3.9/site-packages/matplotlib/axes/_axes.py:3170\u001b[0m, in \u001b[0;36mAxes.pie\u001b[0;34m(self, x, explode, labels, colors, autopct, pctdistance, shadow, labeldistance, startangle, radius, counterclock, wedgeprops, textprops, center, frame, rotatelabels, normalize)\u001b[0m\n\u001b[1;32m   3168\u001b[0m     explode \u001b[39m=\u001b[39m [\u001b[39m0\u001b[39m] \u001b[39m*\u001b[39m \u001b[39mlen\u001b[39m(x)\n\u001b[1;32m   3169\u001b[0m \u001b[39mif\u001b[39;00m \u001b[39mlen\u001b[39m(x) \u001b[39m!=\u001b[39m \u001b[39mlen\u001b[39m(labels):\n\u001b[0;32m-> 3170\u001b[0m     \u001b[39mraise\u001b[39;00m \u001b[39mValueError\u001b[39;00m(\u001b[39m\"\u001b[39m\u001b[39m'\u001b[39m\u001b[39mlabel\u001b[39m\u001b[39m'\u001b[39m\u001b[39m must be of length \u001b[39m\u001b[39m'\u001b[39m\u001b[39mx\u001b[39m\u001b[39m'\u001b[39m\u001b[39m\"\u001b[39m)\n\u001b[1;32m   3171\u001b[0m \u001b[39mif\u001b[39;00m \u001b[39mlen\u001b[39m(x) \u001b[39m!=\u001b[39m \u001b[39mlen\u001b[39m(explode):\n\u001b[1;32m   3172\u001b[0m     \u001b[39mraise\u001b[39;00m \u001b[39mValueError\u001b[39;00m(\u001b[39m\"\u001b[39m\u001b[39m'\u001b[39m\u001b[39mexplode\u001b[39m\u001b[39m'\u001b[39m\u001b[39m must be of length \u001b[39m\u001b[39m'\u001b[39m\u001b[39mx\u001b[39m\u001b[39m'\u001b[39m\u001b[39m\"\u001b[39m)\n",
      "\u001b[0;31mValueError\u001b[0m: 'label' must be of length 'x'"
     ]
    },
    {
     "data": {
      "image/png": "[encoded data removed]",
      "text/plain": [
       "<Figure size 900x900 with 1 Axes>"
      ]
     },
     "metadata": {},
     "output_type": "display_data"
    }
   ],
   "source": [
    "# Datada yer alan tweetlerin yıllara göre dağılımı\n",
    "plt.figure(figsize=(9,9))\n",
    "plt.pie(df.year.value_counts(), labels=['2020 Tweets', '2022 Tweets', '2021 Tweets'], autopct='%1.1f%%', colors=['#ff9999','#66b3ff','#99ff99'],\\\n",
    " startangle=90, textprops={'fontsize': 14}, wedgeprops=dict(width=0.3), explode=(0.05,0,0), shadow=True, pctdistance=0.85,\\\n",
    "    labeldistance=1.1, radius=1.2, counterclock=False, center=(0,0), frame=False)\n",
    "plt.legend(loc='upper right')\n",
    "plt.show()"
   ]
  },
  {
   "cell_type": "code",
   "execution_count": null,
   "metadata": {},
   "outputs": [],
   "source": []
  }
 ],
 "metadata": {
  "kernelspec": {
   "display_name": "Python 3.9.0 ('twitter')",
   "language": "python",
   "name": "python3"
  },
  "language_info": {
   "codemirror_mode": {
    "name": "ipython",
    "version": 3
   },
   "file_extension": ".py",
   "mimetype": "text/x-python",
   "name": "python",
   "nbconvert_exporter": "python",
   "pygments_lexer": "ipython3",
   "version": "3.9.0"
  },
  "orig_nbformat": 4,
  "vscode": {
   "interpreter": {
    "hash": "b316462d525694ded449ee25f030c59ede3cac0901bef3a89c94eca6dd045bc4"
   }
  }
 },
 "nbformat": 4,
 "nbformat_minor": 2
}
