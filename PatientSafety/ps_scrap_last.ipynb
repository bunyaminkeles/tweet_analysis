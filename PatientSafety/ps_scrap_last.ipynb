{
 "cells": [
  {
   "cell_type": "code",
   "execution_count": 1,
   "metadata": {},
   "outputs": [],
   "source": [
    "import snscrape.modules.twitter as sntwitter\n",
    "import pandas as pd\n",
    "pd.set_option('display.max_colwidth', 500)"
   ]
  },
  {
   "cell_type": "code",
   "execution_count": 2,
   "metadata": {},
   "outputs": [],
   "source": [
    "def tweet_scraper(query, n_tweet):\n",
    "\n",
    "    attributes_container = []\n",
    "    max_tweet = n_tweet\n",
    "\n",
    "    for i,tweet in enumerate(sntwitter.TwitterSearchScraper(query).get_items()):\n",
    "\n",
    "        if i>max_tweet:\n",
    "            break\n",
    "            \n",
    "        attributes_container.append([tweet.user.username,\n",
    "                                    tweet.user.followersCount,\n",
    "                                    tweet.user.friendsCount,\n",
    "                                    tweet.retweetCount,\n",
    "                                    tweet.lang,\n",
    "                                    tweet.date,\n",
    "                                    tweet.likeCount,\n",
    "                                    tweet.id,\n",
    "                                    tweet.content,\n",
    "                                    tweet.hashtags,\n",
    "                                    tweet.coordinates,\n",
    "                                    tweet.place])\n",
    "        \n",
    "    return pd.DataFrame(attributes_container, columns=[\"User\",\n",
    "                                                    \"Follows_Count\",\n",
    "                                                    \"Friends_Count\",\n",
    "                                                    \"Retweet_Count\",\n",
    "                                                    \"Language\",\n",
    "                                                    \"Date_Tweet\",\n",
    "                                                    \"Number_of_Likes\",\n",
    "                                                    \"Tweet_Id\",\n",
    "                                                    \"Tweet\",\n",
    "                                                    \"Hashtags\",\n",
    "                                                    \"Coordinates\",\n",
    "                                                    \"Place\"])"
   ]
  },
  {
   "cell_type": "code",
   "execution_count": 3,
   "metadata": {},
   "outputs": [
    {
     "name": "stderr",
     "output_type": "stream",
     "text": [
      "/tmp/ipykernel_18402/3358869285.py:19: FutureWarning: content is deprecated, use rawContent instead\n",
      "  tweet.content,\n"
     ]
    }
   ],
   "source": [
    "ps = tweet_scraper('(patient safety) since:2010-01-01 until:2022-12-31', 250000)\n",
    "ps.to_csv('patient_safety.csv', index=False)"
   ]
  },
  {
   "cell_type": "code",
   "execution_count": 4,
   "metadata": {},
   "outputs": [
    {
     "data": {
      "text/html": [
       "<div>\n",
       "<style scoped>\n",
       "    .dataframe tbody tr th:only-of-type {\n",
       "        vertical-align: middle;\n",
       "    }\n",
       "\n",
       "    .dataframe tbody tr th {\n",
       "        vertical-align: top;\n",
       "    }\n",
       "\n",
       "    .dataframe thead th {\n",
       "        text-align: right;\n",
       "    }\n",
       "</style>\n",
       "<table border=\"1\" class=\"dataframe\">\n",
       "  <thead>\n",
       "    <tr style=\"text-align: right;\">\n",
       "      <th></th>\n",
       "      <th>User</th>\n",
       "      <th>Follows_Count</th>\n",
       "      <th>Friends_Count</th>\n",
       "      <th>Retweet_Count</th>\n",
       "      <th>Language</th>\n",
       "      <th>Date_Tweet</th>\n",
       "      <th>Number_of_Likes</th>\n",
       "      <th>Tweet_Id</th>\n",
       "      <th>Tweet</th>\n",
       "      <th>Hashtags</th>\n",
       "      <th>Coordinates</th>\n",
       "      <th>Place</th>\n",
       "    </tr>\n",
       "  </thead>\n",
       "  <tbody>\n",
       "    <tr>\n",
       "      <th>0</th>\n",
       "      <td>ZKusynova</td>\n",
       "      <td>557</td>\n",
       "      <td>193</td>\n",
       "      <td>0</td>\n",
       "      <td>en</td>\n",
       "      <td>2022-12-05 10:01:31+00:00</td>\n",
       "      <td>0</td>\n",
       "      <td>1,59970551827612E+018</td>\n",
       "      <td>It is encouraging to see that the @WHO \"Global Patient Safety Action Plan 2021–2030: Pandemic and beyond\" is translating into #patientsafety health sector policies and programmes. At this weeks' WHO consultation, we'll discuss reporting and sharing of results. @FIP_org</td>\n",
       "      <td>['patientsafety']</td>\n",
       "      <td>NaN</td>\n",
       "      <td>NaN</td>\n",
       "    </tr>\n",
       "    <tr>\n",
       "      <th>1</th>\n",
       "      <td>EllieGray6272</td>\n",
       "      <td>483</td>\n",
       "      <td>432</td>\n",
       "      <td>0</td>\n",
       "      <td>en</td>\n",
       "      <td>2022-12-05 10:00:44+00:00</td>\n",
       "      <td>0</td>\n",
       "      <td>1,59970532305262E+018</td>\n",
       "      <td>@DocMCohen @DrAseemMalhotra Says the unethical MD who puts #BigPharma profits above patient safety.</td>\n",
       "      <td>['BigPharma']</td>\n",
       "      <td>NaN</td>\n",
       "      <td>NaN</td>\n",
       "    </tr>\n",
       "    <tr>\n",
       "      <th>2</th>\n",
       "      <td>ParamountB</td>\n",
       "      <td>329</td>\n",
       "      <td>816</td>\n",
       "      <td>0</td>\n",
       "      <td>en</td>\n",
       "      <td>2022-12-05 10:00:33+00:00</td>\n",
       "      <td>0</td>\n",
       "      <td>1,59970527413848E+018</td>\n",
       "      <td>👉Shop now &amp;amp; get 10% Discount: \\n\"FIRST AID &amp;amp; PATIENT SAFETY 3ED\" by Atiq Ur Rehman:\\n\\n#firstaid #cpr #firstaidtraining #emergency #medical #medicine #health #rescue #nurse #Paramountbooks #paramountmedicalbooks #MedicalBooks #MedicalStudent #Discount https://t.co/P1TTSYeckf</td>\n",
       "      <td>['firstaid', 'cpr', 'firstaidtraining', 'emergency', 'medical', 'medicine', 'health', 'rescue', 'nurse', 'Paramountbooks', 'paramountmedicalbooks', 'MedicalBooks', 'MedicalStudent', 'Discount']</td>\n",
       "      <td>NaN</td>\n",
       "      <td>NaN</td>\n",
       "    </tr>\n",
       "    <tr>\n",
       "      <th>3</th>\n",
       "      <td>Ksehmi5</td>\n",
       "      <td>281</td>\n",
       "      <td>51</td>\n",
       "      <td>0</td>\n",
       "      <td>en</td>\n",
       "      <td>2022-12-05 09:54:06+00:00</td>\n",
       "      <td>0</td>\n",
       "      <td>1,59970365237706E+018</td>\n",
       "      <td>@Mondher_Letaief ground breaking work been carried on in #patientsafety #GlobalPatientSafetyActionPlan by  @WHOEMRO Member States despite the enormous challenges in the Region. We need to tailor-make the #GPSAP2030 to adjust for  national ecosystems and legacy of conflict https://t.co/msrio0jW0V</td>\n",
       "      <td>['patientsafety', 'GlobalPatientSafetyActionPlan', 'GPSAP2030']</td>\n",
       "      <td>Coordinates(longitude=6.046126, latitude=46.2171765)</td>\n",
       "      <td>Place(fullName='Meyrin, Suisse', name='Meyrin', type='city', country='Switzerland', countryCode='CH')</td>\n",
       "    </tr>\n",
       "    <tr>\n",
       "      <th>4</th>\n",
       "      <td>7Sebe</td>\n",
       "      <td>696</td>\n",
       "      <td>1730</td>\n",
       "      <td>0</td>\n",
       "      <td>en</td>\n",
       "      <td>2022-12-05 09:52:32+00:00</td>\n",
       "      <td>2</td>\n",
       "      <td>1,59970325797867E+018</td>\n",
       "      <td>Reality of today’s NHS approach to #patientsafety when big expensive management consultancy firms tell us how to deliver healthcare: \\nIncentivised unsafe conditions, overworked and underpaid demoralised staff. \\nThis has to change. \\nTime for #fullpayrestoration</td>\n",
       "      <td>['patientsafety', 'fullpayrestoration']</td>\n",
       "      <td>NaN</td>\n",
       "      <td>NaN</td>\n",
       "    </tr>\n",
       "  </tbody>\n",
       "</table>\n",
       "</div>"
      ],
      "text/plain": [
       "            User  Follows_Count  Friends_Count  Retweet_Count Language  \\\n",
       "0      ZKusynova            557            193              0       en   \n",
       "1  EllieGray6272            483            432              0       en   \n",
       "2     ParamountB            329            816              0       en   \n",
       "3        Ksehmi5            281             51              0       en   \n",
       "4          7Sebe            696           1730              0       en   \n",
       "\n",
       "                  Date_Tweet  Number_of_Likes               Tweet_Id  \\\n",
       "0  2022-12-05 10:01:31+00:00                0  1,59970551827612E+018   \n",
       "1  2022-12-05 10:00:44+00:00                0  1,59970532305262E+018   \n",
       "2  2022-12-05 10:00:33+00:00                0  1,59970527413848E+018   \n",
       "3  2022-12-05 09:54:06+00:00                0  1,59970365237706E+018   \n",
       "4  2022-12-05 09:52:32+00:00                2  1,59970325797867E+018   \n",
       "\n",
       "                                                                                                                                                                                                                                                                                                      Tweet  \\\n",
       "0                             It is encouraging to see that the @WHO \"Global Patient Safety Action Plan 2021–2030: Pandemic and beyond\" is translating into #patientsafety health sector policies and programmes. At this weeks' WHO consultation, we'll discuss reporting and sharing of results. @FIP_org   \n",
       "1                                                                                                                                                                                                       @DocMCohen @DrAseemMalhotra Says the unethical MD who puts #BigPharma profits above patient safety.   \n",
       "2               👉Shop now &amp; get 10% Discount: \\n\"FIRST AID &amp; PATIENT SAFETY 3ED\" by Atiq Ur Rehman:\\n\\n#firstaid #cpr #firstaidtraining #emergency #medical #medicine #health #rescue #nurse #Paramountbooks #paramountmedicalbooks #MedicalBooks #MedicalStudent #Discount https://t.co/P1TTSYeckf   \n",
       "3  @Mondher_Letaief ground breaking work been carried on in #patientsafety #GlobalPatientSafetyActionPlan by  @WHOEMRO Member States despite the enormous challenges in the Region. We need to tailor-make the #GPSAP2030 to adjust for  national ecosystems and legacy of conflict https://t.co/msrio0jW0V   \n",
       "4                                   Reality of today’s NHS approach to #patientsafety when big expensive management consultancy firms tell us how to deliver healthcare: \\nIncentivised unsafe conditions, overworked and underpaid demoralised staff. \\nThis has to change. \\nTime for #fullpayrestoration   \n",
       "\n",
       "                                                                                                                                                                                            Hashtags  \\\n",
       "0                                                                                                                                                                                  ['patientsafety']   \n",
       "1                                                                                                                                                                                      ['BigPharma']   \n",
       "2  ['firstaid', 'cpr', 'firstaidtraining', 'emergency', 'medical', 'medicine', 'health', 'rescue', 'nurse', 'Paramountbooks', 'paramountmedicalbooks', 'MedicalBooks', 'MedicalStudent', 'Discount']   \n",
       "3                                                                                                                                    ['patientsafety', 'GlobalPatientSafetyActionPlan', 'GPSAP2030']   \n",
       "4                                                                                                                                                            ['patientsafety', 'fullpayrestoration']   \n",
       "\n",
       "                                            Coordinates  \\\n",
       "0                                                   NaN   \n",
       "1                                                   NaN   \n",
       "2                                                   NaN   \n",
       "3  Coordinates(longitude=6.046126, latitude=46.2171765)   \n",
       "4                                                   NaN   \n",
       "\n",
       "                                                                                                   Place  \n",
       "0                                                                                                    NaN  \n",
       "1                                                                                                    NaN  \n",
       "2                                                                                                    NaN  \n",
       "3  Place(fullName='Meyrin, Suisse', name='Meyrin', type='city', country='Switzerland', countryCode='CH')  \n",
       "4                                                                                                    NaN  "
      ]
     },
     "execution_count": 4,
     "metadata": {},
     "output_type": "execute_result"
    }
   ],
   "source": [
    "df = pd.read_csv('patient_safety2.csv', encoding='utf-8')\n",
    "df.head()"
   ]
  },
  {
   "cell_type": "code",
   "execution_count": 5,
   "metadata": {},
   "outputs": [
    {
     "data": {
      "text/plain": [
       "Index(['User', 'Follows_Count', 'Friends_Count', 'Retweet_Count', 'Language',\n",
       "       'Date_Tweet', 'Number_of_Likes', 'Tweet_Id', 'Tweet', 'Hashtags',\n",
       "       'Coordinates', 'Place'],\n",
       "      dtype='object')"
      ]
     },
     "execution_count": 5,
     "metadata": {},
     "output_type": "execute_result"
    }
   ],
   "source": [
    "df.columns"
   ]
  },
  {
   "cell_type": "code",
   "execution_count": 19,
   "metadata": {},
   "outputs": [],
   "source": [
    "data = df[['User', 'Date_Tweet', 'Tweet', 'Language', 'Hashtags','Place', 'Follows_Count', 'Friends_Count', 'Retweet_Count', \n",
    "        'Number_of_Likes']]"
   ]
  },
  {
   "cell_type": "code",
   "execution_count": 20,
   "metadata": {},
   "outputs": [],
   "source": [
    "import pandas as pd\n",
    "# pd.set_option('display.max_columns', 500)\n",
    "# pd.set_option('display.width', 1000)\n",
    "import numpy as np\n",
    "import re\n",
    "import matplotlib.pyplot as plt\n",
    "import seaborn as sns\n",
    "import warnings\n",
    "warnings.filterwarnings('ignore')\n",
    "%matplotlib inline"
   ]
  },
  {
   "cell_type": "code",
   "execution_count": 21,
   "metadata": {},
   "outputs": [
    {
     "data": {
      "text/plain": [
       "3509"
      ]
     },
     "execution_count": 21,
     "metadata": {},
     "output_type": "execute_result"
    }
   ],
   "source": [
    "data.Tweet.duplicated().sum()"
   ]
  },
  {
   "cell_type": "code",
   "execution_count": 22,
   "metadata": {},
   "outputs": [],
   "source": [
    "data = data.drop_duplicates(subset=['Tweet'], keep='first')"
   ]
  },
  {
   "cell_type": "code",
   "execution_count": 23,
   "metadata": {},
   "outputs": [
    {
     "data": {
      "text/plain": [
       "(236955, 10)"
      ]
     },
     "execution_count": 23,
     "metadata": {},
     "output_type": "execute_result"
    }
   ],
   "source": [
    "#tweets lang\n",
    "\n",
    "data_en = data[data['Language'] == 'en']\n",
    "data_en.shape"
   ]
  },
  {
   "cell_type": "code",
   "execution_count": 24,
   "metadata": {},
   "outputs": [
    {
     "data": {
      "text/plain": [
       "User                    0\n",
       "Date_Tweet              0\n",
       "Tweet                   0\n",
       "Language                0\n",
       "Hashtags            93966\n",
       "Place              238786\n",
       "Follows_Count           0\n",
       "Friends_Count           0\n",
       "Retweet_Count           0\n",
       "Number_of_Likes         0\n",
       "dtype: int64"
      ]
     },
     "execution_count": 24,
     "metadata": {},
     "output_type": "execute_result"
    }
   ],
   "source": [
    "data.isna().sum()"
   ]
  },
  {
   "cell_type": "code",
   "execution_count": 25,
   "metadata": {},
   "outputs": [],
   "source": [
    "data.Tweet = data.Tweet.astype(str)"
   ]
  },
  {
   "cell_type": "code",
   "execution_count": 28,
   "metadata": {},
   "outputs": [
    {
     "name": "stdout",
     "output_type": "stream",
     "text": [
      "Number of users:  73698\n"
     ]
    }
   ],
   "source": [
    "# kullanıcı sayısı ve tweet sayısı\n",
    "\n",
    "print('Number of users: ', data.User.nunique())"
   ]
  },
  {
   "cell_type": "code",
   "execution_count": null,
   "metadata": {},
   "outputs": [],
   "source": [
    "data.Language.value_counts()\n",
    "\n",
    "#data lang plot\n",
    "\n",
    "plt.figure(figsize=(10,5))\n",
    "sns.countplot(data['Language'])\n",
    "plt.title('Tweets Language')\n",
    "plt.show()\n",
    "\n"
   ]
  },
  {
   "cell_type": "code",
   "execution_count": 27,
   "metadata": {},
   "outputs": [
    {
     "data": {
      "text/plain": [
       "0                               It is encouraging to see that the @WHO \"Global Patient Safety Action Plan 2021–2030: Pandemic and beyond\" is translating into #patientsafety health sector policies and programmes. At this weeks' WHO consultation, we'll discuss reporting and sharing of results. @FIP_org\n",
       "1                                                                                                                                                                                                         @DocMCohen @DrAseemMalhotra Says the unethical MD who puts #BigPharma profits above patient safety.\n",
       "2                 👉Shop now &amp; get 10% Discount: \\n\"FIRST AID &amp; PATIENT SAFETY 3ED\" by Atiq Ur Rehman:\\n\\n#firstaid #cpr #firstaidtraining #emergency #medical #medicine #health #rescue #nurse #Paramountbooks #paramountmedicalbooks #MedicalBooks #MedicalStudent #Discount https://t.co/P1TTSYeckf\n",
       "3    @Mondher_Letaief ground breaking work been carried on in #patientsafety #GlobalPatientSafetyActionPlan by  @WHOEMRO Member States despite the enormous challenges in the Region. We need to tailor-make the #GPSAP2030 to adjust for  national ecosystems and legacy of conflict https://t.co/msrio0jW0V\n",
       "4                                     Reality of today’s NHS approach to #patientsafety when big expensive management consultancy firms tell us how to deliver healthcare: \\nIncentivised unsafe conditions, overworked and underpaid demoralised staff. \\nThis has to change. \\nTime for #fullpayrestoration\n",
       "Name: Tweet, dtype: object"
      ]
     },
     "execution_count": 27,
     "metadata": {},
     "output_type": "execute_result"
    }
   ],
   "source": [
    "data.Tweet.head()"
   ]
  },
  {
   "cell_type": "code",
   "execution_count": null,
   "metadata": {},
   "outputs": [],
   "source": []
  }
 ],
 "metadata": {
  "kernelspec": {
   "display_name": "Python 3.9.0 ('twitter')",
   "language": "python",
   "name": "python3"
  },
  "language_info": {
   "codemirror_mode": {
    "name": "ipython",
    "version": 3
   },
   "file_extension": ".py",
   "mimetype": "text/x-python",
   "name": "python",
   "nbconvert_exporter": "python",
   "pygments_lexer": "ipython3",
   "version": "3.9.0"
  },
  "orig_nbformat": 4,
  "vscode": {
   "interpreter": {
    "hash": "b316462d525694ded449ee25f030c59ede3cac0901bef3a89c94eca6dd045bc4"
   }
  }
 },
 "nbformat": 4,
 "nbformat_minor": 2
}
